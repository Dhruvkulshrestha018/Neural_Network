{
  "nbformat": 4,
  "nbformat_minor": 0,
  "metadata": {
    "colab": {
      "provenance": []
    },
    "kernelspec": {
      "name": "python3",
      "display_name": "Python 3"
    },
    "language_info": {
      "name": "python"
    }
  },
  "cells": [
    {
      "cell_type": "code",
      "execution_count": 1,
      "metadata": {
        "id": "jSakS-Y103Om"
      },
      "outputs": [],
      "source": [
        "import numpy as np\n",
        "import matplotlib.pyplot as plt\n",
        "import pandas as pd"
      ]
    },
    {
      "cell_type": "code",
      "source": [
        "df = pd.read_csv('/content/sample_data/mnist_test.csv')"
      ],
      "metadata": {
        "id": "iyww9ako4IS0"
      },
      "execution_count": 2,
      "outputs": []
    },
    {
      "cell_type": "code",
      "source": [
        "df.head()"
      ],
      "metadata": {
        "colab": {
          "base_uri": "https://localhost:8080/",
          "height": 233
        },
        "id": "h3cwLXkl4d44",
        "outputId": "84077a88-517b-42ec-9386-8f2a0ce29a21"
      },
      "execution_count": 3,
      "outputs": [
        {
          "output_type": "execute_result",
          "data": {
            "text/plain": [
              "   7  0  0.1  0.2  0.3  0.4  0.5  0.6  0.7  0.8  ...  0.658  0.659  0.660  \\\n",
              "0  2  0    0    0    0    0    0    0    0    0  ...      0      0      0   \n",
              "1  1  0    0    0    0    0    0    0    0    0  ...      0      0      0   \n",
              "2  0  0    0    0    0    0    0    0    0    0  ...      0      0      0   \n",
              "3  4  0    0    0    0    0    0    0    0    0  ...      0      0      0   \n",
              "4  1  0    0    0    0    0    0    0    0    0  ...      0      0      0   \n",
              "\n",
              "   0.661  0.662  0.663  0.664  0.665  0.666  0.667  \n",
              "0      0      0      0      0      0      0      0  \n",
              "1      0      0      0      0      0      0      0  \n",
              "2      0      0      0      0      0      0      0  \n",
              "3      0      0      0      0      0      0      0  \n",
              "4      0      0      0      0      0      0      0  \n",
              "\n",
              "[5 rows x 785 columns]"
            ],
            "text/html": [
              "\n",
              "  <div id=\"df-8db19089-8b30-4579-a919-311057c64bad\" class=\"colab-df-container\">\n",
              "    <div>\n",
              "<style scoped>\n",
              "    .dataframe tbody tr th:only-of-type {\n",
              "        vertical-align: middle;\n",
              "    }\n",
              "\n",
              "    .dataframe tbody tr th {\n",
              "        vertical-align: top;\n",
              "    }\n",
              "\n",
              "    .dataframe thead th {\n",
              "        text-align: right;\n",
              "    }\n",
              "</style>\n",
              "<table border=\"1\" class=\"dataframe\">\n",
              "  <thead>\n",
              "    <tr style=\"text-align: right;\">\n",
              "      <th></th>\n",
              "      <th>7</th>\n",
              "      <th>0</th>\n",
              "      <th>0.1</th>\n",
              "      <th>0.2</th>\n",
              "      <th>0.3</th>\n",
              "      <th>0.4</th>\n",
              "      <th>0.5</th>\n",
              "      <th>0.6</th>\n",
              "      <th>0.7</th>\n",
              "      <th>0.8</th>\n",
              "      <th>...</th>\n",
              "      <th>0.658</th>\n",
              "      <th>0.659</th>\n",
              "      <th>0.660</th>\n",
              "      <th>0.661</th>\n",
              "      <th>0.662</th>\n",
              "      <th>0.663</th>\n",
              "      <th>0.664</th>\n",
              "      <th>0.665</th>\n",
              "      <th>0.666</th>\n",
              "      <th>0.667</th>\n",
              "    </tr>\n",
              "  </thead>\n",
              "  <tbody>\n",
              "    <tr>\n",
              "      <th>0</th>\n",
              "      <td>2</td>\n",
              "      <td>0</td>\n",
              "      <td>0</td>\n",
              "      <td>0</td>\n",
              "      <td>0</td>\n",
              "      <td>0</td>\n",
              "      <td>0</td>\n",
              "      <td>0</td>\n",
              "      <td>0</td>\n",
              "      <td>0</td>\n",
              "      <td>...</td>\n",
              "      <td>0</td>\n",
              "      <td>0</td>\n",
              "      <td>0</td>\n",
              "      <td>0</td>\n",
              "      <td>0</td>\n",
              "      <td>0</td>\n",
              "      <td>0</td>\n",
              "      <td>0</td>\n",
              "      <td>0</td>\n",
              "      <td>0</td>\n",
              "    </tr>\n",
              "    <tr>\n",
              "      <th>1</th>\n",
              "      <td>1</td>\n",
              "      <td>0</td>\n",
              "      <td>0</td>\n",
              "      <td>0</td>\n",
              "      <td>0</td>\n",
              "      <td>0</td>\n",
              "      <td>0</td>\n",
              "      <td>0</td>\n",
              "      <td>0</td>\n",
              "      <td>0</td>\n",
              "      <td>...</td>\n",
              "      <td>0</td>\n",
              "      <td>0</td>\n",
              "      <td>0</td>\n",
              "      <td>0</td>\n",
              "      <td>0</td>\n",
              "      <td>0</td>\n",
              "      <td>0</td>\n",
              "      <td>0</td>\n",
              "      <td>0</td>\n",
              "      <td>0</td>\n",
              "    </tr>\n",
              "    <tr>\n",
              "      <th>2</th>\n",
              "      <td>0</td>\n",
              "      <td>0</td>\n",
              "      <td>0</td>\n",
              "      <td>0</td>\n",
              "      <td>0</td>\n",
              "      <td>0</td>\n",
              "      <td>0</td>\n",
              "      <td>0</td>\n",
              "      <td>0</td>\n",
              "      <td>0</td>\n",
              "      <td>...</td>\n",
              "      <td>0</td>\n",
              "      <td>0</td>\n",
              "      <td>0</td>\n",
              "      <td>0</td>\n",
              "      <td>0</td>\n",
              "      <td>0</td>\n",
              "      <td>0</td>\n",
              "      <td>0</td>\n",
              "      <td>0</td>\n",
              "      <td>0</td>\n",
              "    </tr>\n",
              "    <tr>\n",
              "      <th>3</th>\n",
              "      <td>4</td>\n",
              "      <td>0</td>\n",
              "      <td>0</td>\n",
              "      <td>0</td>\n",
              "      <td>0</td>\n",
              "      <td>0</td>\n",
              "      <td>0</td>\n",
              "      <td>0</td>\n",
              "      <td>0</td>\n",
              "      <td>0</td>\n",
              "      <td>...</td>\n",
              "      <td>0</td>\n",
              "      <td>0</td>\n",
              "      <td>0</td>\n",
              "      <td>0</td>\n",
              "      <td>0</td>\n",
              "      <td>0</td>\n",
              "      <td>0</td>\n",
              "      <td>0</td>\n",
              "      <td>0</td>\n",
              "      <td>0</td>\n",
              "    </tr>\n",
              "    <tr>\n",
              "      <th>4</th>\n",
              "      <td>1</td>\n",
              "      <td>0</td>\n",
              "      <td>0</td>\n",
              "      <td>0</td>\n",
              "      <td>0</td>\n",
              "      <td>0</td>\n",
              "      <td>0</td>\n",
              "      <td>0</td>\n",
              "      <td>0</td>\n",
              "      <td>0</td>\n",
              "      <td>...</td>\n",
              "      <td>0</td>\n",
              "      <td>0</td>\n",
              "      <td>0</td>\n",
              "      <td>0</td>\n",
              "      <td>0</td>\n",
              "      <td>0</td>\n",
              "      <td>0</td>\n",
              "      <td>0</td>\n",
              "      <td>0</td>\n",
              "      <td>0</td>\n",
              "    </tr>\n",
              "  </tbody>\n",
              "</table>\n",
              "<p>5 rows × 785 columns</p>\n",
              "</div>\n",
              "    <div class=\"colab-df-buttons\">\n",
              "\n",
              "  <div class=\"colab-df-container\">\n",
              "    <button class=\"colab-df-convert\" onclick=\"convertToInteractive('df-8db19089-8b30-4579-a919-311057c64bad')\"\n",
              "            title=\"Convert this dataframe to an interactive table.\"\n",
              "            style=\"display:none;\">\n",
              "\n",
              "  <svg xmlns=\"http://www.w3.org/2000/svg\" height=\"24px\" viewBox=\"0 -960 960 960\">\n",
              "    <path d=\"M120-120v-720h720v720H120Zm60-500h600v-160H180v160Zm220 220h160v-160H400v160Zm0 220h160v-160H400v160ZM180-400h160v-160H180v160Zm440 0h160v-160H620v160ZM180-180h160v-160H180v160Zm440 0h160v-160H620v160Z\"/>\n",
              "  </svg>\n",
              "    </button>\n",
              "\n",
              "  <style>\n",
              "    .colab-df-container {\n",
              "      display:flex;\n",
              "      gap: 12px;\n",
              "    }\n",
              "\n",
              "    .colab-df-convert {\n",
              "      background-color: #E8F0FE;\n",
              "      border: none;\n",
              "      border-radius: 50%;\n",
              "      cursor: pointer;\n",
              "      display: none;\n",
              "      fill: #1967D2;\n",
              "      height: 32px;\n",
              "      padding: 0 0 0 0;\n",
              "      width: 32px;\n",
              "    }\n",
              "\n",
              "    .colab-df-convert:hover {\n",
              "      background-color: #E2EBFA;\n",
              "      box-shadow: 0px 1px 2px rgba(60, 64, 67, 0.3), 0px 1px 3px 1px rgba(60, 64, 67, 0.15);\n",
              "      fill: #174EA6;\n",
              "    }\n",
              "\n",
              "    .colab-df-buttons div {\n",
              "      margin-bottom: 4px;\n",
              "    }\n",
              "\n",
              "    [theme=dark] .colab-df-convert {\n",
              "      background-color: #3B4455;\n",
              "      fill: #D2E3FC;\n",
              "    }\n",
              "\n",
              "    [theme=dark] .colab-df-convert:hover {\n",
              "      background-color: #434B5C;\n",
              "      box-shadow: 0px 1px 3px 1px rgba(0, 0, 0, 0.15);\n",
              "      filter: drop-shadow(0px 1px 2px rgba(0, 0, 0, 0.3));\n",
              "      fill: #FFFFFF;\n",
              "    }\n",
              "  </style>\n",
              "\n",
              "    <script>\n",
              "      const buttonEl =\n",
              "        document.querySelector('#df-8db19089-8b30-4579-a919-311057c64bad button.colab-df-convert');\n",
              "      buttonEl.style.display =\n",
              "        google.colab.kernel.accessAllowed ? 'block' : 'none';\n",
              "\n",
              "      async function convertToInteractive(key) {\n",
              "        const element = document.querySelector('#df-8db19089-8b30-4579-a919-311057c64bad');\n",
              "        const dataTable =\n",
              "          await google.colab.kernel.invokeFunction('convertToInteractive',\n",
              "                                                    [key], {});\n",
              "        if (!dataTable) return;\n",
              "\n",
              "        const docLinkHtml = 'Like what you see? Visit the ' +\n",
              "          '<a target=\"_blank\" href=https://colab.research.google.com/notebooks/data_table.ipynb>data table notebook</a>'\n",
              "          + ' to learn more about interactive tables.';\n",
              "        element.innerHTML = '';\n",
              "        dataTable['output_type'] = 'display_data';\n",
              "        await google.colab.output.renderOutput(dataTable, element);\n",
              "        const docLink = document.createElement('div');\n",
              "        docLink.innerHTML = docLinkHtml;\n",
              "        element.appendChild(docLink);\n",
              "      }\n",
              "    </script>\n",
              "  </div>\n",
              "\n",
              "\n",
              "<div id=\"df-7a9c65c9-f997-45e0-91be-18401452367f\">\n",
              "  <button class=\"colab-df-quickchart\" onclick=\"quickchart('df-7a9c65c9-f997-45e0-91be-18401452367f')\"\n",
              "            title=\"Suggest charts\"\n",
              "            style=\"display:none;\">\n",
              "\n",
              "<svg xmlns=\"http://www.w3.org/2000/svg\" height=\"24px\"viewBox=\"0 0 24 24\"\n",
              "     width=\"24px\">\n",
              "    <g>\n",
              "        <path d=\"M19 3H5c-1.1 0-2 .9-2 2v14c0 1.1.9 2 2 2h14c1.1 0 2-.9 2-2V5c0-1.1-.9-2-2-2zM9 17H7v-7h2v7zm4 0h-2V7h2v10zm4 0h-2v-4h2v4z\"/>\n",
              "    </g>\n",
              "</svg>\n",
              "  </button>\n",
              "\n",
              "<style>\n",
              "  .colab-df-quickchart {\n",
              "      --bg-color: #E8F0FE;\n",
              "      --fill-color: #1967D2;\n",
              "      --hover-bg-color: #E2EBFA;\n",
              "      --hover-fill-color: #174EA6;\n",
              "      --disabled-fill-color: #AAA;\n",
              "      --disabled-bg-color: #DDD;\n",
              "  }\n",
              "\n",
              "  [theme=dark] .colab-df-quickchart {\n",
              "      --bg-color: #3B4455;\n",
              "      --fill-color: #D2E3FC;\n",
              "      --hover-bg-color: #434B5C;\n",
              "      --hover-fill-color: #FFFFFF;\n",
              "      --disabled-bg-color: #3B4455;\n",
              "      --disabled-fill-color: #666;\n",
              "  }\n",
              "\n",
              "  .colab-df-quickchart {\n",
              "    background-color: var(--bg-color);\n",
              "    border: none;\n",
              "    border-radius: 50%;\n",
              "    cursor: pointer;\n",
              "    display: none;\n",
              "    fill: var(--fill-color);\n",
              "    height: 32px;\n",
              "    padding: 0;\n",
              "    width: 32px;\n",
              "  }\n",
              "\n",
              "  .colab-df-quickchart:hover {\n",
              "    background-color: var(--hover-bg-color);\n",
              "    box-shadow: 0 1px 2px rgba(60, 64, 67, 0.3), 0 1px 3px 1px rgba(60, 64, 67, 0.15);\n",
              "    fill: var(--button-hover-fill-color);\n",
              "  }\n",
              "\n",
              "  .colab-df-quickchart-complete:disabled,\n",
              "  .colab-df-quickchart-complete:disabled:hover {\n",
              "    background-color: var(--disabled-bg-color);\n",
              "    fill: var(--disabled-fill-color);\n",
              "    box-shadow: none;\n",
              "  }\n",
              "\n",
              "  .colab-df-spinner {\n",
              "    border: 2px solid var(--fill-color);\n",
              "    border-color: transparent;\n",
              "    border-bottom-color: var(--fill-color);\n",
              "    animation:\n",
              "      spin 1s steps(1) infinite;\n",
              "  }\n",
              "\n",
              "  @keyframes spin {\n",
              "    0% {\n",
              "      border-color: transparent;\n",
              "      border-bottom-color: var(--fill-color);\n",
              "      border-left-color: var(--fill-color);\n",
              "    }\n",
              "    20% {\n",
              "      border-color: transparent;\n",
              "      border-left-color: var(--fill-color);\n",
              "      border-top-color: var(--fill-color);\n",
              "    }\n",
              "    30% {\n",
              "      border-color: transparent;\n",
              "      border-left-color: var(--fill-color);\n",
              "      border-top-color: var(--fill-color);\n",
              "      border-right-color: var(--fill-color);\n",
              "    }\n",
              "    40% {\n",
              "      border-color: transparent;\n",
              "      border-right-color: var(--fill-color);\n",
              "      border-top-color: var(--fill-color);\n",
              "    }\n",
              "    60% {\n",
              "      border-color: transparent;\n",
              "      border-right-color: var(--fill-color);\n",
              "    }\n",
              "    80% {\n",
              "      border-color: transparent;\n",
              "      border-right-color: var(--fill-color);\n",
              "      border-bottom-color: var(--fill-color);\n",
              "    }\n",
              "    90% {\n",
              "      border-color: transparent;\n",
              "      border-bottom-color: var(--fill-color);\n",
              "    }\n",
              "  }\n",
              "</style>\n",
              "\n",
              "  <script>\n",
              "    async function quickchart(key) {\n",
              "      const quickchartButtonEl =\n",
              "        document.querySelector('#' + key + ' button');\n",
              "      quickchartButtonEl.disabled = true;  // To prevent multiple clicks.\n",
              "      quickchartButtonEl.classList.add('colab-df-spinner');\n",
              "      try {\n",
              "        const charts = await google.colab.kernel.invokeFunction(\n",
              "            'suggestCharts', [key], {});\n",
              "      } catch (error) {\n",
              "        console.error('Error during call to suggestCharts:', error);\n",
              "      }\n",
              "      quickchartButtonEl.classList.remove('colab-df-spinner');\n",
              "      quickchartButtonEl.classList.add('colab-df-quickchart-complete');\n",
              "    }\n",
              "    (() => {\n",
              "      let quickchartButtonEl =\n",
              "        document.querySelector('#df-7a9c65c9-f997-45e0-91be-18401452367f button');\n",
              "      quickchartButtonEl.style.display =\n",
              "        google.colab.kernel.accessAllowed ? 'block' : 'none';\n",
              "    })();\n",
              "  </script>\n",
              "</div>\n",
              "\n",
              "    </div>\n",
              "  </div>\n"
            ],
            "application/vnd.google.colaboratory.intrinsic+json": {
              "type": "dataframe",
              "variable_name": "df"
            }
          },
          "metadata": {},
          "execution_count": 3
        }
      ]
    },
    {
      "cell_type": "code",
      "source": [
        "data = np.array(df)"
      ],
      "metadata": {
        "id": "yhPrdEiX5W1M"
      },
      "execution_count": 40,
      "outputs": []
    },
    {
      "cell_type": "code",
      "source": [
        "m, n = data.shape"
      ],
      "metadata": {
        "id": "3HeN9gAm5ODZ"
      },
      "execution_count": 42,
      "outputs": []
    },
    {
      "cell_type": "code",
      "source": [
        "data = np.array(data)\n",
        "m, n = data.shape\n",
        "np.random.shuffle(data) # shuffle before splitting into dev and training sets\n",
        "\n",
        "data_dev = data[0:1000].T\n",
        "Y_dev = data_dev[0]\n",
        "X_dev = data_dev[1:n]\n",
        "X_dev = X_dev / 255.\n",
        "\n",
        "data_train = data[1000:m].T\n",
        "Y_train = data_train[0]\n",
        "X_train = data_train[1:n]\n",
        "X_train = X_train / 255.\n",
        "_,m_train = X_train.shape"
      ],
      "metadata": {
        "id": "EhCBaqkv5ht_"
      },
      "execution_count": 43,
      "outputs": []
    },
    {
      "cell_type": "code",
      "source": [
        "Y_train"
      ],
      "metadata": {
        "id": "YHYEVSfC5sE4",
        "colab": {
          "base_uri": "https://localhost:8080/"
        },
        "outputId": "28b0fd0a-6b28-4f28-bfa0-291b0077b386"
      },
      "execution_count": 44,
      "outputs": [
        {
          "output_type": "execute_result",
          "data": {
            "text/plain": [
              "array([5, 7, 5, ..., 6, 7, 0])"
            ]
          },
          "metadata": {},
          "execution_count": 44
        }
      ]
    },
    {
      "cell_type": "code",
      "source": [
        "X_train[:,0].shape"
      ],
      "metadata": {
        "colab": {
          "base_uri": "https://localhost:8080/"
        },
        "id": "Tu0RavaOEkiV",
        "outputId": "d5047c14-1e70-48d1-8f65-9d1f7340d789"
      },
      "execution_count": 45,
      "outputs": [
        {
          "output_type": "execute_result",
          "data": {
            "text/plain": [
              "(784,)"
            ]
          },
          "metadata": {},
          "execution_count": 45
        }
      ]
    },
    {
      "cell_type": "markdown",
      "source": [
        "Our NN will have a simple two-layer architecture. Input layer  𝑎[0]  will have 784 units corresponding to the 784 pixels in each 28x28 input image. A hidden layer  𝑎[1]  will have 10 units with ReLU activation, and finally our output layer  𝑎[2]  will have 10 units corresponding to the ten digit classes with softmax activation."
      ],
      "metadata": {
        "id": "rhtUv7FuFDVT"
      }
    },
    {
      "cell_type": "code",
      "source": [
        "def init__params():\n",
        "  W1 = np.random.rand(10,784) -0.5\n",
        "  B1 = np.random.rand(10,1) -0.5\n",
        "  W2 = np.random.rand(10,10) -0.5\n",
        "  B2 = np.random.rand(10,1) -0.5\n",
        "  return W1,B1,W2,B2\n",
        "\n",
        "def ReLU(Z):\n",
        "  return np.maximum(Z,0)\n",
        "\n",
        "def softmax(Z):\n",
        "  A = np.exp(Z) / sum(np.exp(Z))\n",
        "  return A\n",
        "\n",
        "def forward_prop(W1,B1,W2,B2,X):\n",
        "  Z1 = W1.dot(X) + B1\n",
        "  A1 = ReLU(Z1)\n",
        "  Z2 = W2.dot(A1) + B2\n",
        "  A2 = softmax(Z2)\n",
        "  return Z1,A1,Z2,A2\n",
        "\n",
        "def ReLU_deriv(Z):\n",
        "  return Z>0\n",
        "\n",
        "def one_hot(Y):\n",
        "    one_hot_Y = np.zeros((Y.size, Y.max() + 1))\n",
        "    one_hot_Y[np.arange(Y.size), Y] = 1\n",
        "    one_hot_Y = one_hot_Y.T\n",
        "    return one_hot_Y\n",
        "\n",
        "def back_prop(Z1,A1,Z2,A2,W1,W2,X,Y):\n",
        "  m = Y.size\n",
        "  one_hot_Y = one_hot(Y)\n",
        "  dZ2 = A2 - one_hot_Y\n",
        "  dW2 = 1/m * dZ2.dot(A1.T)\n",
        "  dB2 = 1/m * np.sum(dZ2)\n",
        "  dZ1 = W2.T.dot(dZ2) * ReLU_deriv(Z1)\n",
        "  dW1 = 1/m * dZ1.dot(X.T)\n",
        "  dB1 = 1/m * np.sum(dZ1)\n",
        "  return dW1,dB1,dW2,dB2\n",
        "\n",
        "def update_params(W1,B1,W2,B2,dW1,dB1,dW2,dB2,alpha):\n",
        "  W1 = W1 - alpha * dW1\n",
        "  B1 = B1 - alpha * dB1\n",
        "  W2 = W2 - alpha * dW2\n",
        "  B2 = B2 - alpha * dB2"
      ],
      "metadata": {
        "id": "Y5_qHQ8pFJo1"
      },
      "execution_count": 46,
      "outputs": []
    },
    {
      "cell_type": "code",
      "source": [
        "def get_predictions(A2):\n",
        "    return np.argmax(A2, 0)\n",
        "\n",
        "def get_accuracy(predictions, Y):\n",
        "    print(predictions, Y)\n",
        "    return np.sum(predictions == Y) / Y.size\n",
        "\n",
        "def gradient_descent(X, Y, alpha, iterations):\n",
        "    W1, b1, W2, b2 = init__params()\n",
        "    for i in range(iterations):\n",
        "        Z1, A1, Z2, A2 = forward_prop(W1, b1, W2, b2, X)\n",
        "        dW1, db1, dW2, db2 = back_prop(Z1, A1, Z2, A2, W1, W2, X, Y)\n",
        "        W1, b1, W2, b2 = update_params(W1, b1, W2, b2, dW1, db1, dW2, db2, alpha)\n",
        "        if i % 10 == 0:\n",
        "            print(\"Iteration: \", i)\n",
        "            predictions = get_predictions(A2)\n",
        "            print(get_accuracy(predictions, Y))\n",
        "    return W1, b1, W2, b2"
      ],
      "metadata": {
        "id": "K-xdCjHLGZlM"
      },
      "execution_count": 47,
      "outputs": []
    },
    {
      "cell_type": "code",
      "source": [
        "def update_params(W1,B1,W2,B2,dW1,dB1,dW2,dB2,alpha):\n",
        "  W1 = W1 - alpha * dW1\n",
        "  B1 = B1 - alpha * dB1\n",
        "  W2 = W2 - alpha * dW2\n",
        "  B2 = B2 - alpha * dB2\n",
        "  return W1, B1, W2, B2 # Return the updated parameters"
      ],
      "metadata": {
        "id": "esqL8viXMR3J"
      },
      "execution_count": 48,
      "outputs": []
    },
    {
      "cell_type": "code",
      "source": [
        "W1, b1, W2, b2 = gradient_descent(X_train, Y_train, 0.10, 500)"
      ],
      "metadata": {
        "colab": {
          "base_uri": "https://localhost:8080/"
        },
        "id": "rTEbQZRuLZFf",
        "outputId": "2c5578b9-9800-480d-b39b-46b4af9d2d28"
      },
      "execution_count": 49,
      "outputs": [
        {
          "output_type": "stream",
          "name": "stdout",
          "text": [
            "Iteration:  0\n",
            "[9 2 5 ... 2 5 9] [5 7 5 ... 6 7 0]\n",
            "0.10623402600288921\n",
            "Iteration:  10\n",
            "[4 2 3 ... 3 5 0] [5 7 5 ... 6 7 0]\n",
            "0.2129125458384265\n",
            "Iteration:  20\n",
            "[4 2 3 ... 3 5 0] [5 7 5 ... 6 7 0]\n",
            "0.31370152239137683\n",
            "Iteration:  30\n",
            "[8 2 3 ... 3 5 0] [5 7 5 ... 6 7 0]\n",
            "0.38282031336815203\n",
            "Iteration:  40\n",
            "[8 2 3 ... 3 5 0] [5 7 5 ... 6 7 0]\n",
            "0.44216024002666965\n",
            "Iteration:  50\n",
            "[8 7 3 ... 3 5 0] [5 7 5 ... 6 7 0]\n",
            "0.49216579619957773\n",
            "Iteration:  60\n",
            "[8 7 3 ... 3 5 0] [5 7 5 ... 6 7 0]\n",
            "0.5409489943327036\n",
            "Iteration:  70\n",
            "[8 7 3 ... 3 5 0] [5 7 5 ... 6 7 0]\n",
            "0.5829536615179465\n",
            "Iteration:  80\n",
            "[8 7 3 ... 3 7 0] [5 7 5 ... 6 7 0]\n",
            "0.616957439715524\n",
            "Iteration:  90\n",
            "[8 7 3 ... 3 7 0] [5 7 5 ... 6 7 0]\n",
            "0.6490721191243471\n",
            "Iteration:  100\n",
            "[8 7 2 ... 3 7 0] [5 7 5 ... 6 7 0]\n",
            "0.6761862429158796\n",
            "Iteration:  110\n",
            "[8 7 2 ... 3 7 0] [5 7 5 ... 6 7 0]\n",
            "0.7008556506278475\n",
            "Iteration:  120\n",
            "[8 7 2 ... 3 7 0] [5 7 5 ... 6 7 0]\n",
            "0.7188576508500945\n",
            "Iteration:  130\n",
            "[8 7 2 ... 3 7 0] [5 7 5 ... 6 7 0]\n",
            "0.7360817868652072\n",
            "Iteration:  140\n",
            "[8 7 2 ... 3 7 0] [5 7 5 ... 6 7 0]\n",
            "0.7496388487609734\n",
            "Iteration:  150\n",
            "[8 7 2 ... 3 7 0] [5 7 5 ... 6 7 0]\n",
            "0.759417713079231\n",
            "Iteration:  160\n",
            "[8 7 2 ... 3 7 0] [5 7 5 ... 6 7 0]\n",
            "0.7676408489832204\n",
            "Iteration:  170\n",
            "[8 7 2 ... 3 7 0] [5 7 5 ... 6 7 0]\n",
            "0.7763084787198578\n",
            "Iteration:  180\n",
            "[8 7 2 ... 3 7 0] [5 7 5 ... 6 7 0]\n",
            "0.7861984664962773\n",
            "Iteration:  190\n",
            "[8 7 2 ... 3 7 0] [5 7 5 ... 6 7 0]\n",
            "0.7949772196910768\n",
            "Iteration:  200\n",
            "[8 7 2 ... 3 7 0] [5 7 5 ... 6 7 0]\n",
            "0.8000888987665297\n",
            "Iteration:  210\n",
            "[8 7 2 ... 3 7 0] [5 7 5 ... 6 7 0]\n",
            "0.8066451827980887\n",
            "Iteration:  220\n",
            "[8 7 2 ... 3 7 0] [5 7 5 ... 6 7 0]\n",
            "0.8113123680408935\n",
            "Iteration:  230\n",
            "[8 7 2 ... 3 7 0] [5 7 5 ... 6 7 0]\n",
            "0.8157573063673742\n",
            "Iteration:  240\n",
            "[8 7 2 ... 5 7 0] [5 7 5 ... 6 7 0]\n",
            "0.8207578619846649\n",
            "Iteration:  250\n",
            "[8 7 2 ... 5 7 0] [5 7 5 ... 6 7 0]\n",
            "0.8248694299366597\n",
            "Iteration:  260\n",
            "[8 7 2 ... 5 7 0] [5 7 5 ... 6 7 0]\n",
            "0.8284253805978442\n",
            "Iteration:  270\n",
            "[8 7 2 ... 5 7 0] [5 7 5 ... 6 7 0]\n",
            "0.8312034670518946\n",
            "Iteration:  280\n",
            "[8 7 2 ... 6 7 0] [5 7 5 ... 6 7 0]\n",
            "0.8359817757528615\n",
            "Iteration:  290\n",
            "[8 7 2 ... 6 7 0] [5 7 5 ... 6 7 0]\n",
            "0.8376486276252917\n",
            "Iteration:  300\n",
            "[8 7 2 ... 6 7 0] [5 7 5 ... 6 7 0]\n",
            "0.8413157017446383\n",
            "Iteration:  310\n",
            "[8 7 2 ... 6 7 0] [5 7 5 ... 6 7 0]\n",
            "0.8439826647405267\n",
            "Iteration:  320\n",
            "[8 7 2 ... 6 7 0] [5 7 5 ... 6 7 0]\n",
            "0.8467607511945772\n",
            "Iteration:  330\n",
            "[8 7 2 ... 6 7 0] [5 7 5 ... 6 7 0]\n",
            "0.8480942326925214\n",
            "Iteration:  340\n",
            "[8 7 2 ... 6 7 0] [5 7 5 ... 6 7 0]\n",
            "0.8495388376486276\n",
            "Iteration:  350\n",
            "[8 7 2 ... 6 7 0] [5 7 5 ... 6 7 0]\n",
            "0.851761306811868\n",
            "Iteration:  360\n",
            "[8 7 2 ... 6 7 0] [5 7 5 ... 6 7 0]\n",
            "0.8529836648516502\n",
            "Iteration:  370\n",
            "[8 7 2 ... 6 7 0] [5 7 5 ... 6 7 0]\n",
            "0.8550950105567285\n",
            "Iteration:  380\n",
            "[8 7 2 ... 6 7 0] [5 7 5 ... 6 7 0]\n",
            "0.8569841093454829\n",
            "Iteration:  390\n",
            "[8 7 2 ... 6 7 0] [5 7 5 ... 6 7 0]\n",
            "0.8589843315923992\n",
            "Iteration:  400\n",
            "[8 7 2 ... 6 7 0] [5 7 5 ... 6 7 0]\n",
            "0.8609845538393155\n",
            "Iteration:  410\n",
            "[8 7 2 ... 6 7 0] [5 7 5 ... 6 7 0]\n",
            "0.8622069118790977\n",
            "Iteration:  420\n",
            "[8 7 2 ... 6 7 0] [5 7 5 ... 6 7 0]\n",
            "0.8637626402933659\n",
            "Iteration:  430\n",
            "[8 7 2 ... 6 7 0] [5 7 5 ... 6 7 0]\n",
            "0.8648738748749861\n",
            "Iteration:  440\n",
            "[8 7 2 ... 6 7 0] [5 7 5 ... 6 7 0]\n",
            "0.8659851094566063\n",
            "Iteration:  450\n",
            "[8 7 2 ... 6 7 0] [5 7 5 ... 6 7 0]\n",
            "0.8673185909545506\n",
            "Iteration:  460\n",
            "[8 7 2 ... 6 7 0] [5 7 5 ... 6 7 0]\n",
            "0.8683187020780087\n",
            "Iteration:  470\n",
            "[8 7 2 ... 6 7 0] [5 7 5 ... 6 7 0]\n",
            "0.8696521835759529\n",
            "Iteration:  480\n",
            "[8 7 2 ... 6 7 0] [5 7 5 ... 6 7 0]\n",
            "0.8706522946994111\n",
            "Iteration:  490\n",
            "[8 7 2 ... 6 7 0] [5 7 5 ... 6 7 0]\n",
            "0.8716524058228692\n"
          ]
        }
      ]
    },
    {
      "cell_type": "markdown",
      "source": [
        "85% accuracy on training the set"
      ],
      "metadata": {
        "id": "oRHY_tJsbvMD"
      }
    },
    {
      "cell_type": "code",
      "source": [
        "def make_predictiopns(X, W1, b1, W2, b2):\n",
        "  _, _, _, A2 = forward_prop(W1, b1, W2, b2, X)\n",
        "  predictions = get_predictions(A2)\n",
        "  return predictions\n",
        "\n",
        "def test_prediction(index, W1, b1, W2, b2):\n",
        "  current_image = X_train[:, index, None]\n",
        "  prediction = make_predictiopns(X_train[:, index, None], W1, b1, W2, b2)\n",
        "  label = Y_train[index]\n",
        "  print(\"Prediction: \", prediction)\n",
        "  print(\"Label: \", label)\n",
        "  current_image = current_image.reshape((28, 28)) * 255\n",
        "  plt.gray()\n",
        "  plt.imshow(current_image, interpolation='nearest')\n",
        "  plt.show()"
      ],
      "metadata": {
        "id": "Ny3CQNLEMX8i"
      },
      "execution_count": 50,
      "outputs": []
    },
    {
      "cell_type": "markdown",
      "source": [
        "let's look at a couple of examples"
      ],
      "metadata": {
        "id": "XN99QkdQcQiV"
      }
    },
    {
      "cell_type": "code",
      "source": [
        "test_prediction(0, W1, b1, W2, b2)\n",
        "test_prediction(1, W1, b1, W2, b2)\n",
        "test_prediction(2, W1, b1, W2, b2)\n",
        "test_prediction(3, W1, b1, W2, b2)\n",
        "test_prediction(5, W1, b1, W2, b2)"
      ],
      "metadata": {
        "colab": {
          "base_uri": "https://localhost:8080/",
          "height": 1000
        },
        "id": "TjsJh0z9cOP3",
        "outputId": "2e26816f-3f26-4f2e-e760-bc1871ff8988"
      },
      "execution_count": 51,
      "outputs": [
        {
          "output_type": "stream",
          "name": "stdout",
          "text": [
            "Prediction:  [8]\n",
            "Label:  5\n"
          ]
        },
        {
          "output_type": "display_data",
          "data": {
            "text/plain": [
              "<Figure size 640x480 with 1 Axes>"
            ],
            "image/png": "[encoded data removed]"
          },
          "metadata": {}
        },
        {
          "output_type": "stream",
          "name": "stdout",
          "text": [
            "Prediction:  [7]\n",
            "Label:  7\n"
          ]
        },
        {
          "output_type": "display_data",
          "data": {
            "text/plain": [
              "<Figure size 640x480 with 1 Axes>"
            ],
            "image/png": "[encoded data removed]"
          },
          "metadata": {}
        },
        {
          "output_type": "stream",
          "name": "stdout",
          "text": [
            "Prediction:  [2]\n",
            "Label:  5\n"
          ]
        },
        {
          "output_type": "display_data",
          "data": {
            "text/plain": [
              "<Figure size 640x480 with 1 Axes>"
            ],
            "image/png": "[encoded data removed]"
          },
          "metadata": {}
        },
        {
          "output_type": "stream",
          "name": "stdout",
          "text": [
            "Prediction:  [2]\n",
            "Label:  2\n"
          ]
        },
        {
          "output_type": "display_data",
          "data": {
            "text/plain": [
              "<Figure size 640x480 with 1 Axes>"
            ],
            "image/png": "[encoded data removed]"
          },
          "metadata": {}
        },
        {
          "output_type": "stream",
          "name": "stdout",
          "text": [
            "Prediction:  [3]\n",
            "Label:  3\n"
          ]
        },
        {
          "output_type": "display_data",
          "data": {
            "text/plain": [
              "<Figure size 640x480 with 1 Axes>"
            ],
            "image/png": "[encoded data removed]"
          },
          "metadata": {}
        }
      ]
    },
    {
      "cell_type": "code",
      "source": [
        "dev_predictions = make_predictiopns(X_dev, W1, b1, W2, b2)\n",
        "get_accuracy(dev_predictions, Y_dev)"
      ],
      "metadata": {
        "colab": {
          "base_uri": "https://localhost:8080/"
        },
        "id": "b8Gp5EuKcf18",
        "outputId": "fe2617e5-161e-41ea-8feb-ee2bb133ecb8"
      },
      "execution_count": 52,
      "outputs": [
        {
          "output_type": "stream",
          "name": "stdout",
          "text": [
            "[3 7 9 8 1 1 6 4 4 2 3 2 0 4 8 5 4 5 5 5 3 3 9 6 3 3 6 5 3 5 4 9 6 6 7 6 2\n",
            " 7 3 2 8 1 2 7 0 9 0 7 3 4 3 8 0 1 4 7 8 4 7 5 8 9 3 4 5 8 3 8 2 7 2 4 9 6\n",
            " 7 0 1 4 3 6 4 1 7 3 1 6 6 3 9 1 4 3 4 2 8 6 3 4 1 7 8 7 7 0 0 7 3 0 7 8 1\n",
            " 5 6 1 7 8 7 9 8 3 4 6 4 2 9 5 4 6 3 8 5 6 8 9 1 0 8 2 9 2 7 7 2 7 2 7 7 9\n",
            " 5 7 7 8 8 0 7 2 9 0 8 3 8 6 6 7 7 6 1 0 7 6 8 1 3 3 7 2 8 9 8 9 2 6 6 8 2\n",
            " 1 1 0 9 0 3 1 2 7 5 4 8 0 6 0 8 8 6 9 7 8 0 8 9 5 6 5 1 0 8 1 9 8 2 7 8 1\n",
            " 6 8 5 2 0 2 4 1 8 0 7 3 2 7 1 8 1 5 7 2 5 3 2 3 8 0 9 9 2 6 7 3 4 1 1 9 2\n",
            " 2 9 6 5 6 9 9 3 9 1 1 0 7 9 3 9 9 7 9 6 9 6 3 5 1 3 4 8 6 6 3 7 1 1 3 8 1\n",
            " 4 8 5 7 9 1 6 6 9 6 1 0 1 1 8 0 9 1 7 4 2 6 4 5 9 8 9 4 0 5 9 5 7 0 3 4 3\n",
            " 7 8 3 5 5 6 0 1 7 1 9 3 2 3 0 7 2 1 9 8 1 2 8 0 4 3 0 2 4 1 3 6 2 0 9 1 0\n",
            " 4 9 8 8 0 4 8 8 2 4 1 2 7 1 8 8 9 9 5 7 8 1 1 0 5 5 1 0 1 9 4 6 4 6 9 4 4\n",
            " 4 5 5 9 1 7 8 0 0 5 1 0 8 7 7 1 3 0 4 2 1 9 5 2 1 0 5 0 1 1 0 0 9 9 3 8 6\n",
            " 1 8 0 7 9 0 2 3 9 6 3 5 5 2 0 6 6 8 5 6 7 4 3 8 3 0 8 3 7 8 6 4 0 5 0 2 5\n",
            " 0 4 5 0 8 1 9 8 3 1 7 3 9 8 3 8 7 9 9 3 7 2 8 4 7 9 3 7 3 6 1 6 1 6 4 3 1\n",
            " 2 3 9 8 1 3 9 1 7 2 5 2 0 0 3 3 1 2 4 3 5 4 6 4 0 0 9 1 6 1 7 6 1 7 8 1 2\n",
            " 0 9 2 3 6 6 0 7 5 4 4 1 3 6 4 7 2 4 9 4 7 4 9 3 2 7 9 1 5 8 9 9 9 3 0 6 4\n",
            " 6 8 2 9 8 4 2 3 9 2 5 7 9 2 1 7 1 7 8 4 5 7 7 4 5 1 7 0 8 5 0 4 0 1 1 4 4\n",
            " 5 5 4 3 2 3 2 3 4 4 0 0 5 6 4 9 3 8 2 7 8 4 2 9 6 8 0 6 0 9 9 2 7 9 4 9 1\n",
            " 5 2 5 7 3 9 4 8 4 2 1 7 8 1 1 5 8 6 1 8 0 1 9 0 5 2 1 4 1 4 8 3 8 6 2 6 9\n",
            " 6 7 1 8 5 8 1 6 1 6 7 3 2 8 6 1 3 1 8 4 7 1 3 1 0 3 1 8 2 4 4 6 9 3 1 6 7\n",
            " 7 6 4 9 6 9 9 8 5 6 6 3 6 9 5 0 2 9 0 7 2 6 9 5 0 8 7 5 6 0 8 2 6 2 4 5 2\n",
            " 0 0 5 3 4 0 0 5 3 1 6 7 0 5 0 3 8 6 2 9 4 2 3 2 0 4 7 2 1 4 9 3 0 3 9 6 7\n",
            " 6 3 6 6 3 1 6 6 7 1 4 8 7 7 3 3 5 6 6 1 5 8 6 3 4 7 5 0 5 6 3 3 2 6 7 6 5\n",
            " 1 2 5 9 3 5 5 0 4 1 4 4 8 2 1 0 2 5 9 6 6 0 9 0 4 7 5 3 0 9 0 0 4 7 3 2 1\n",
            " 4 4 1 6 0 7 4 6 3 6 7 5 4 3 8 4 8 1 7 6 3 9 4 9 3 0 2 7 1 7 0 4 4 0 8 9 3\n",
            " 8 9 2 3 6 7 6 4 1 4 0 7 0 7 0 9 1 6 2 3 7 7 1 4 6 1 7 7 0 1 9 8 7 4 5 5 8\n",
            " 0 8 5 8 4 8 1 8 2 0 3 6 2 9 1 7 7 3 4 4 6 6 5 6 0 9 9 8 8 9 2 8 5 6 4 4 8\n",
            " 9] [3 7 9 8 1 1 6 4 4 2 5 2 0 4 8 5 4 5 5 8 3 3 8 6 5 3 6 5 3 3 4 9 6 6 7 6 2\n",
            " 9 5 2 8 1 2 7 9 9 0 7 3 4 3 8 0 1 4 7 8 4 7 5 8 9 3 4 8 8 8 8 2 7 2 4 4 6\n",
            " 7 0 1 4 3 6 4 1 7 3 1 6 6 3 4 1 4 3 4 6 8 2 3 5 1 7 8 7 7 0 0 7 3 2 7 5 1\n",
            " 5 6 1 7 8 0 9 3 3 4 6 9 2 4 5 4 4 3 8 5 2 8 9 1 6 8 2 4 2 7 7 2 7 2 7 7 4\n",
            " 6 7 7 8 8 0 7 2 9 0 8 3 8 6 6 7 7 6 5 0 9 6 8 1 5 8 7 2 5 9 8 9 2 6 6 8 2\n",
            " 1 1 2 3 0 3 1 2 7 5 4 8 0 6 0 8 8 6 9 7 8 0 8 2 5 6 5 1 0 9 1 9 8 2 7 8 1\n",
            " 6 8 5 3 0 2 4 1 8 0 9 3 2 5 1 8 1 8 7 2 5 3 6 5 8 0 9 7 2 6 7 3 4 1 1 9 2\n",
            " 2 9 6 3 6 9 9 3 9 1 1 0 7 9 3 9 9 7 9 5 5 6 3 5 1 3 4 8 6 6 3 7 1 1 3 8 8\n",
            " 4 8 5 7 4 9 6 6 9 6 1 7 1 1 2 0 9 1 2 4 2 6 4 3 2 8 2 4 6 5 9 5 7 8 3 4 3\n",
            " 7 8 3 3 5 6 0 1 7 1 9 3 9 3 5 7 2 1 4 7 1 2 5 0 9 3 0 2 6 1 3 6 2 0 9 1 0\n",
            " 4 9 8 8 0 4 8 8 2 4 1 2 7 1 8 8 9 7 0 7 8 1 1 0 5 5 1 0 1 9 4 6 4 6 9 4 4\n",
            " 4 5 5 9 1 9 8 0 0 3 7 0 8 7 7 1 3 0 4 6 1 9 5 9 1 0 5 0 2 1 0 0 9 7 3 5 6\n",
            " 1 8 0 5 9 0 2 3 9 0 3 5 8 3 0 6 6 8 5 6 7 4 5 6 3 0 0 3 7 8 6 4 0 5 0 2 5\n",
            " 0 4 5 0 8 1 9 8 8 1 7 3 9 8 3 8 1 9 9 3 7 2 8 4 8 5 3 7 3 2 1 6 1 6 4 9 1\n",
            " 4 3 9 5 1 3 7 9 7 7 5 2 0 0 3 3 1 2 4 3 5 4 6 4 0 0 9 1 2 1 7 6 1 7 8 1 2\n",
            " 0 9 2 3 6 6 0 7 5 4 4 1 5 6 4 9 2 4 9 4 7 5 9 3 2 7 9 1 7 8 9 9 8 3 0 6 4\n",
            " 6 8 2 2 8 4 2 3 9 6 5 7 7 2 1 7 1 9 8 4 5 7 7 4 5 1 7 0 8 5 0 4 0 1 1 4 4\n",
            " 5 8 4 3 7 0 2 3 4 4 0 0 5 6 4 4 3 5 7 7 8 4 3 9 4 8 0 0 0 9 8 2 7 9 4 9 1\n",
            " 5 2 5 7 3 9 4 8 4 2 1 7 8 2 1 5 8 6 1 2 0 1 9 0 5 2 1 4 1 4 8 5 8 6 2 6 9\n",
            " 6 7 1 8 8 5 1 6 1 6 5 3 2 8 6 1 3 1 8 4 7 1 3 1 0 3 5 8 2 4 4 6 9 3 1 7 7\n",
            " 2 6 4 9 6 9 9 8 5 6 6 3 6 9 5 0 2 8 0 7 2 6 9 5 0 8 7 5 6 0 8 2 4 8 9 5 2\n",
            " 0 0 5 3 4 0 0 5 3 1 6 3 0 3 0 3 8 6 2 9 4 2 3 2 0 4 7 2 1 4 9 3 0 3 4 6 7\n",
            " 6 3 6 6 3 1 6 6 7 1 4 8 7 7 3 3 3 0 6 1 5 8 6 3 4 7 5 0 3 6 3 5 2 0 7 2 5\n",
            " 1 2 5 9 3 0 5 0 4 1 4 4 8 2 1 0 2 9 9 6 6 0 9 0 4 7 5 3 9 9 0 0 9 7 2 2 1\n",
            " 4 4 1 6 0 7 4 6 9 6 7 5 4 3 8 4 8 1 7 6 3 9 4 9 3 0 2 7 1 2 0 4 4 0 5 9 3\n",
            " 8 9 2 3 6 7 0 4 1 4 0 7 5 7 0 9 1 6 2 3 7 7 1 4 6 1 7 7 0 1 9 8 7 4 5 5 8\n",
            " 0 8 0 8 4 8 1 8 2 0 3 6 6 9 1 7 7 3 4 4 6 6 3 6 0 9 9 9 8 9 2 7 5 6 6 4 8\n",
            " 9]\n"
          ]
        },
        {
          "output_type": "execute_result",
          "data": {
            "text/plain": [
              "0.849"
            ]
          },
          "metadata": {},
          "execution_count": 52
        }
      ]
    }
  ]
}